{
  "nbformat": 4,
  "nbformat_minor": 0,
  "metadata": {
    "colab": {
      "provenance": [],
      "toc_visible": true
    },
    "kernelspec": {
      "name": "python3",
      "display_name": "Python 3"
    },
    "language_info": {
      "name": "python"
    }
  },
  "cells": [
    {
      "cell_type": "code",
      "execution_count": null,
      "metadata": {
        "id": "CLwCHQ1I559R"
      },
      "outputs": [],
      "source": [
        "import pandas as pd\n",
        "import numpy as np\n",
        "import matplotlib.pyplot as plt\n",
        "import re, os, string\n",
        "from sklearn.feature_extraction.text import CountVectorizer, TfidfVectorizer\n",
        "import seaborn as sns\n",
        "import tensorflow as tf\n",
        "from tensorflow.keras.preprocessing.text import Tokenizer\n",
        "from tensorflow.keras.preprocessing.sequence import pad_sequences\n",
        "from tensorflow.keras.utils import to_categorical\n",
        "from tensorflow.keras.models import Sequential\n",
        "from tensorflow.keras.layers import Embedding, Lambda, Dense\n",
        "import tensorflow.keras.backend as K"
      ]
    },
    {
      "cell_type": "markdown",
      "source": [
        "# Finish script for pipeline in slide 28"
      ],
      "metadata": {
        "id": "kSxcoMZiB4zq"
      }
    },
    {
      "cell_type": "code",
      "source": [
        "Punc2Remove = string.punctuation + string.digits + \"\\n\"\n",
        "\n",
        "def clean_text(text):\n",
        "    translation_table = str.maketrans('', '', Punc2Remove)\n",
        "    text = text.translate(translation_table)\n",
        "    text = text.lower()\n",
        "    return text\n",
        "\n",
        "with open('truyen_kieu_data.txt', 'r', encoding='utf-8') as file:\n",
        "    data = file.readlines()\n",
        "\n",
        "print(f\"Data: {data[0]}\")\n",
        "exs = clean_text(data[0])\n",
        "print(f\"Cleaned text: {exs}\")"
      ],
      "metadata": {
        "colab": {
          "base_uri": "https://localhost:8080/"
        },
        "id": "Om9VWHDnB803",
        "outputId": "d384d856-0d36-4cfb-84d8-f463ccf57f4c"
      },
      "execution_count": null,
      "outputs": [
        {
          "output_type": "stream",
          "name": "stdout",
          "text": [
            "Data: 1..Trăm năm trong cõi người ta,\n",
            "\n",
            "Cleaned text: trăm năm trong cõi người ta\n"
          ]
        }
      ]
    },
    {
      "cell_type": "code",
      "source": [
        "cleaned_data = []\n",
        "for line in data:\n",
        "    line = clean_text(line)\n",
        "    cleaned_data.append(line)\n",
        "\n",
        "cleaned_data[:10]"
      ],
      "metadata": {
        "colab": {
          "base_uri": "https://localhost:8080/"
        },
        "id": "mXFLE6iqf7RK",
        "outputId": "67062e85-bbfc-4fbc-adfb-8f61826e7124"
      },
      "execution_count": null,
      "outputs": [
        {
          "output_type": "execute_result",
          "data": {
            "text/plain": [
              "['trăm năm trong cõi người ta',\n",
              " 'chữ tài chữ mệnh khéo là ghét nhau',\n",
              " 'trải qua một cuộc bể dâu',\n",
              " 'những điều trông thấy mà đau đớn lòng',\n",
              " ' lạ gì bỉ sắc tư phong',\n",
              " 'trời xanh quen thói má hồng đánh ghen',\n",
              " 'cảo thơm lần giở trước đèn',\n",
              " 'phong tình có lục còn truyền sử xanh',\n",
              " 'rằng năm gia tĩnh triều minh',\n",
              " ' bốn phương phẳng lặng hai kinh vững vàng']"
            ]
          },
          "metadata": {},
          "execution_count": 153
        }
      ]
    },
    {
      "cell_type": "code",
      "source": [
        "\n",
        "def get_centers_and_contexts(corpus, max_window_size=2):\n",
        "    centers = []\n",
        "    contexts = []\n",
        "\n",
        "    for line in corpus:\n",
        "        line = line.split()\n",
        "\n",
        "        if len(line) <= 2*max_window_size:\n",
        "            continue\n",
        "\n",
        "        for i in range(max_window_size, len(line)-max_window_size):\n",
        "            centers.append(line[i])\n",
        "            idxs = list(range(i-max_window_size, i+max_window_size+1))\n",
        "            idxs.remove(i)\n",
        "            contexts.append(\" \".join([line[idx] for idx in idxs]))\n",
        "\n",
        "    return centers, contexts"
      ],
      "metadata": {
        "id": "JS6vrCFyh_rj"
      },
      "execution_count": null,
      "outputs": []
    },
    {
      "cell_type": "code",
      "source": [
        "centers, contexts = get_centers_and_contexts(cleaned_data)\n",
        "len(centers)"
      ],
      "metadata": {
        "colab": {
          "base_uri": "https://localhost:8080/"
        },
        "id": "OYWKWUkOi-z2",
        "outputId": "8ed84b76-64be-4790-d8fa-34321d7c58b1"
      },
      "execution_count": null,
      "outputs": [
        {
          "output_type": "execute_result",
          "data": {
            "text/plain": [
              "9778"
            ]
          },
          "metadata": {},
          "execution_count": 155
        }
      ]
    },
    {
      "cell_type": "code",
      "source": [
        "max_length = 4\n",
        "embedding_size = 250"
      ],
      "metadata": {
        "id": "5UxjaLZejXKh"
      },
      "execution_count": null,
      "outputs": []
    },
    {
      "cell_type": "code",
      "source": [
        "tokenizer = Tokenizer(oov_token='<OOV>')\n",
        "tokenizer.fit_on_texts(cleaned_data)"
      ],
      "metadata": {
        "id": "0Rp5fIgGkG7U"
      },
      "execution_count": null,
      "outputs": []
    },
    {
      "cell_type": "code",
      "source": [
        "vocab_size = len(tokenizer.index_word) + 1"
      ],
      "metadata": {
        "id": "buzo7cFjkSRS"
      },
      "execution_count": null,
      "outputs": []
    },
    {
      "cell_type": "code",
      "source": [
        "train_seq = tokenizer.texts_to_sequences(contexts)\n",
        "train_seq_pad = pad_sequences(train_seq, maxlen=max_length, truncating = 'post', padding = \"post\")\n",
        "train_labels = [to_categorical(tokenizer.word_index[label], len(tokenizer.word_index) + 1) for label in centers]\n",
        "train_labels = np.array(train_labels)"
      ],
      "metadata": {
        "id": "iGiVF1Rrkgp6"
      },
      "execution_count": null,
      "outputs": []
    },
    {
      "cell_type": "code",
      "source": [
        "cbow = Sequential()\n",
        "cbow.add(Embedding(input_dim=vocab_size, output_dim=embedding_size, input_length=4))\n",
        "cbow.add(Lambda(lambda x : K.mean(x, axis=1), output_shape=(embedding_size,)))\n",
        "cbow.add(Dense(vocab_size, activation='softmax'))\n",
        "cbow.compile(optimizer='adam', loss='categorical_crossentropy', metrics=['accuracy'])\n",
        "\n",
        "cbow.summary()"
      ],
      "metadata": {
        "colab": {
          "base_uri": "https://localhost:8080/"
        },
        "id": "Aen3Qx3YkhvA",
        "outputId": "40fae457-b4da-415c-d751-d44b64a3d3fd"
      },
      "execution_count": null,
      "outputs": [
        {
          "output_type": "stream",
          "name": "stdout",
          "text": [
            "Model: \"sequential_10\"\n",
            "_________________________________________________________________\n",
            " Layer (type)                Output Shape              Param #   \n",
            "=================================================================\n",
            " embedding_10 (Embedding)    (None, 4, 250)            603000    \n",
            "                                                                 \n",
            " lambda_10 (Lambda)          (None, 250)               0         \n",
            "                                                                 \n",
            " dense_9 (Dense)             (None, 2412)              605412    \n",
            "                                                                 \n",
            "=================================================================\n",
            "Total params: 1208412 (4.61 MB)\n",
            "Trainable params: 1208412 (4.61 MB)\n",
            "Non-trainable params: 0 (0.00 Byte)\n",
            "_________________________________________________________________\n"
          ]
        }
      ]
    },
    {
      "cell_type": "code",
      "source": [
        "model = cbow.fit(train_seq_pad, train_labels, epochs=25, verbose=2)\n",
        "print(model.history)"
      ],
      "metadata": {
        "colab": {
          "base_uri": "https://localhost:8080/"
        },
        "id": "82vuEyOxrHRN",
        "outputId": "da2ef9e2-7131-42a0-f9fe-3eeaa7f3236e"
      },
      "execution_count": null,
      "outputs": [
        {
          "output_type": "stream",
          "name": "stdout",
          "text": [
            "Epoch 1/25\n",
            "306/306 - 5s - loss: 7.4276 - accuracy: 0.0184 - 5s/epoch - 17ms/step\n",
            "Epoch 2/25\n",
            "306/306 - 5s - loss: 6.7092 - accuracy: 0.0209 - 5s/epoch - 17ms/step\n",
            "Epoch 3/25\n",
            "306/306 - 5s - loss: 6.5284 - accuracy: 0.0276 - 5s/epoch - 18ms/step\n",
            "Epoch 4/25\n",
            "306/306 - 4s - loss: 6.3082 - accuracy: 0.0419 - 4s/epoch - 15ms/step\n",
            "Epoch 5/25\n",
            "306/306 - 6s - loss: 5.9821 - accuracy: 0.0697 - 6s/epoch - 18ms/step\n",
            "Epoch 6/25\n",
            "306/306 - 5s - loss: 5.5498 - accuracy: 0.1039 - 5s/epoch - 16ms/step\n",
            "Epoch 7/25\n",
            "306/306 - 4s - loss: 5.0385 - accuracy: 0.1519 - 4s/epoch - 15ms/step\n",
            "Epoch 8/25\n",
            "306/306 - 6s - loss: 4.4835 - accuracy: 0.2065 - 6s/epoch - 19ms/step\n",
            "Epoch 9/25\n",
            "306/306 - 4s - loss: 3.9239 - accuracy: 0.2834 - 4s/epoch - 15ms/step\n",
            "Epoch 10/25\n",
            "306/306 - 4s - loss: 3.3867 - accuracy: 0.3628 - 4s/epoch - 14ms/step\n",
            "Epoch 11/25\n",
            "306/306 - 6s - loss: 2.8920 - accuracy: 0.4532 - 6s/epoch - 19ms/step\n",
            "Epoch 12/25\n",
            "306/306 - 5s - loss: 2.4519 - accuracy: 0.5354 - 5s/epoch - 15ms/step\n",
            "Epoch 13/25\n",
            "306/306 - 4s - loss: 2.0683 - accuracy: 0.6159 - 4s/epoch - 15ms/step\n",
            "Epoch 14/25\n",
            "306/306 - 6s - loss: 1.7418 - accuracy: 0.6848 - 6s/epoch - 19ms/step\n",
            "Epoch 15/25\n",
            "306/306 - 4s - loss: 1.4667 - accuracy: 0.7446 - 4s/epoch - 14ms/step\n",
            "Epoch 16/25\n",
            "306/306 - 5s - loss: 1.2363 - accuracy: 0.7956 - 5s/epoch - 15ms/step\n",
            "Epoch 17/25\n",
            "306/306 - 5s - loss: 1.0457 - accuracy: 0.8351 - 5s/epoch - 18ms/step\n",
            "Epoch 18/25\n",
            "306/306 - 6s - loss: 0.8874 - accuracy: 0.8669 - 6s/epoch - 19ms/step\n",
            "Epoch 19/25\n",
            "306/306 - 6s - loss: 0.7564 - accuracy: 0.8938 - 6s/epoch - 19ms/step\n",
            "Epoch 20/25\n",
            "306/306 - 5s - loss: 0.6473 - accuracy: 0.9156 - 5s/epoch - 15ms/step\n",
            "Epoch 21/25\n",
            "306/306 - 4s - loss: 0.5563 - accuracy: 0.9320 - 4s/epoch - 14ms/step\n",
            "Epoch 22/25\n",
            "306/306 - 6s - loss: 0.4800 - accuracy: 0.9465 - 6s/epoch - 19ms/step\n",
            "Epoch 23/25\n",
            "306/306 - 4s - loss: 0.4157 - accuracy: 0.9551 - 4s/epoch - 15ms/step\n",
            "Epoch 24/25\n",
            "306/306 - 5s - loss: 0.3613 - accuracy: 0.9650 - 5s/epoch - 16ms/step\n",
            "Epoch 25/25\n",
            "306/306 - 7s - loss: 0.3153 - accuracy: 0.9715 - 7s/epoch - 24ms/step\n",
            "{'loss': [7.427611827850342, 6.709160327911377, 6.528392791748047, 6.308177471160889, 5.982137203216553, 5.5498247146606445, 5.038513660430908, 4.48347282409668, 3.9238908290863037, 3.386704444885254, 2.8920109272003174, 2.4519476890563965, 2.0683391094207764, 1.7417930364608765, 1.4666802883148193, 1.2362604141235352, 1.0457056760787964, 0.8873614072799683, 0.7564392685890198, 0.6472869515419006, 0.5563193559646606, 0.4800224304199219, 0.41567519307136536, 0.3613080680370331, 0.31525859236717224], 'accuracy': [0.018408672884106636, 0.020863162353634834, 0.02761300839483738, 0.04193086549639702, 0.0697484165430069, 0.10390672832727432, 0.15187154710292816, 0.20648394525051117, 0.2833912968635559, 0.36275312304496765, 0.4531601667404175, 0.5353855490684509, 0.6158723831176758, 0.6848025918006897, 0.7446308135986328, 0.7955614924430847, 0.8351401090621948, 0.8669462203979492, 0.8938432931900024, 0.9156269431114197, 0.9319902062416077, 0.9465125799179077, 0.9551032781600952, 0.9650235176086426, 0.9714665412902832]}\n"
          ]
        }
      ]
    },
    {
      "cell_type": "code",
      "source": [
        "sample_text = 'trăm năm cõi người ta'\n",
        "sample_seq = tokenizer.texts_to_sequences([sample_text])\n",
        "sample_seq_pad = pad_sequences(sample_seq, maxlen=max_length, truncating='post', padding=\"post\")\n",
        "cbow.predict(sample_seq_pad)"
      ],
      "metadata": {
        "colab": {
          "base_uri": "https://localhost:8080/"
        },
        "id": "B3zpruQwmapS",
        "outputId": "b113e8d4-921e-4a52-d830-9c230d2894d4"
      },
      "execution_count": null,
      "outputs": [
        {
          "output_type": "stream",
          "name": "stdout",
          "text": [
            "1/1 [==============================] - 0s 52ms/step\n"
          ]
        },
        {
          "output_type": "execute_result",
          "data": {
            "text/plain": [
              "array([[1.07512593e-11, 1.06291651e-11, 5.69267548e-04, ...,\n",
              "        9.60149791e-08, 1.09128834e-11, 2.33700888e-07]], dtype=float32)"
            ]
          },
          "metadata": {},
          "execution_count": 162
        }
      ]
    },
    {
      "cell_type": "code",
      "source": [
        "tokenizer.index_word[np.argmax(cbow.predict(sample_seq_pad))]"
      ],
      "metadata": {
        "colab": {
          "base_uri": "https://localhost:8080/",
          "height": 55
        },
        "id": "tcVnS1aSmNI8",
        "outputId": "45432609-bb92-4d61-9471-12e8339303b2"
      },
      "execution_count": null,
      "outputs": [
        {
          "output_type": "stream",
          "name": "stdout",
          "text": [
            "1/1 [==============================] - 0s 22ms/step\n"
          ]
        },
        {
          "output_type": "execute_result",
          "data": {
            "text/plain": [
              "'trong'"
            ],
            "application/vnd.google.colaboratory.intrinsic+json": {
              "type": "string"
            }
          },
          "metadata": {},
          "execution_count": 163
        }
      ]
    }
  ]
}